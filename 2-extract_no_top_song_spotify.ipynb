{
 "cells": [
  {
   "cell_type": "code",
   "execution_count": 3,
   "id": "3656c12b",
   "metadata": {},
   "outputs": [],
   "source": [
    "import spotipy\n",
    "from spotipy.oauth2 import SpotifyClientCredentials\n",
    "import spotipy.util as util\n",
    "import json\n",
    "import random\n",
    "import string\n",
    "import pandas as pd \n",
    "import numpy as np\n",
    "import seaborn as sns\n",
    "from pandas import json_normalize\n",
    "pd.set_option('display.max_columns', None)"
   ]
  },
  {
   "cell_type": "code",
   "execution_count": 4,
   "id": "c7a7dc6b",
   "metadata": {},
   "outputs": [],
   "source": [
    "#variable entorno\n",
    "cid =\"7b90adf482154140bb2ff823fddff587\"\n",
    "secret = \"7b03b5d482a84fd08aa92a9051c8e8e8\""
   ]
  },
  {
   "attachments": {},
   "cell_type": "markdown",
   "id": "39ed909a",
   "metadata": {},
   "source": [
    "### Conexion a Spotify"
   ]
  },
  {
   "cell_type": "code",
   "execution_count": 5,
   "id": "ce0b7bee",
   "metadata": {
    "scrolled": true
   },
   "outputs": [
    {
     "name": "stdout",
     "output_type": "stream",
     "text": [
      "5\n"
     ]
    }
   ],
   "source": [
    "spotify = spotipy.Spotify(client_credentials_manager=SpotifyClientCredentials(client_id=cid, \n",
    "                                                                              client_secret=secret, requests_timeout = 100))\n",
    "\n",
    "print(spotify.requests_timeout)"
   ]
  },
  {
   "attachments": {},
   "cell_type": "markdown",
   "id": "76877924",
   "metadata": {},
   "source": [
    "##### Obteniendo IDs de tracks random para tener una muestra de canciones no-hits. Se extraen canciones del 2000-2022"
   ]
  },
  {
   "cell_type": "code",
   "execution_count": 8,
   "id": "0fb18fdd",
   "metadata": {},
   "outputs": [],
   "source": [
    "track_id_list = []\n",
    "\n",
    "for i in range(0,5000):\n",
    "    \n",
    "    random_search = [random.choice(string.ascii_letters + string.digits) + '%25',\n",
    "                '%25' + random.choice(string.ascii_letters + string.digits),\n",
    "                '%25' + random.choice(string.ascii_letters + string.digits) + '%25']\n",
    "    \n",
    "    random_track_s = random.choice(random_search)\n",
    "    \n",
    "    search = spotify.search(q=random_track_s + ' year:2000-2022',\n",
    "                   type='track', \n",
    "                   offset=random.randint(0,500))\n",
    "    \n",
    "    track_id = search['tracks']['items'][0]['id']\n",
    "\n",
    "    if track_id is None:\n",
    "        track_id_list.append(np.nan)\n",
    "    else:\n",
    "        track_id_list.append(track_id)"
   ]
  },
  {
   "cell_type": "code",
   "execution_count": 9,
   "id": "2b2d1f9e",
   "metadata": {},
   "outputs": [
    {
     "data": {
      "text/plain": [
       "5000"
      ]
     },
     "execution_count": 9,
     "metadata": {},
     "output_type": "execute_result"
    }
   ],
   "source": [
    "len(track_id_list)"
   ]
  },
  {
   "cell_type": "code",
   "execution_count": 10,
   "id": "0fb59d7a",
   "metadata": {},
   "outputs": [],
   "source": [
    "df = pd.DataFrame()\n",
    "df['track_id'] = track_id_list"
   ]
  },
  {
   "cell_type": "code",
   "execution_count": 11,
   "id": "1e0857e0",
   "metadata": {},
   "outputs": [
    {
     "data": {
      "text/plain": [
       "(3330, 1)"
      ]
     },
     "execution_count": 11,
     "metadata": {},
     "output_type": "execute_result"
    }
   ],
   "source": [
    "df.drop_duplicates(inplace=True)\n",
    "df.shape"
   ]
  },
  {
   "cell_type": "code",
   "execution_count": 7,
   "id": "337b4db1",
   "metadata": {},
   "outputs": [],
   "source": [
    "#Almaceno salida de IDs generado en un csv\n",
    "\n",
    "df.to_csv('2000-2022_random_tracks_id', encoding='utf-8')"
   ]
  }
 ],
 "metadata": {
  "kernelspec": {
   "display_name": "Python 3.9.12 ('base')",
   "language": "python",
   "name": "python3"
  },
  "language_info": {
   "codemirror_mode": {
    "name": "ipython",
    "version": 3
   },
   "file_extension": ".py",
   "mimetype": "text/x-python",
   "name": "python",
   "nbconvert_exporter": "python",
   "pygments_lexer": "ipython3",
   "version": "3.9.12 (main, Apr  4 2022, 05:22:27) [MSC v.1916 64 bit (AMD64)]"
  },
  "vscode": {
   "interpreter": {
    "hash": "040e857c8f7e811255334ba981155795e858537c1e516eab018aced75efa0204"
   }
  }
 },
 "nbformat": 4,
 "nbformat_minor": 5
}
