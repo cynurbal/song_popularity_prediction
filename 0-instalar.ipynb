{
 "cells": [
  {
   "cell_type": "code",
   "execution_count": 1,
   "metadata": {},
   "outputs": [
    {
     "name": "stdout",
     "output_type": "stream",
     "text": [
      "Requirement already satisfied: spotipy in c:\\users\\cbaut\\anaconda3\\lib\\site-packages (2.20.0)\n",
      "Requirement already satisfied: redis>=3.5.3 in c:\\users\\cbaut\\anaconda3\\lib\\site-packages (from spotipy) (4.3.4)\n",
      "Requirement already satisfied: six>=1.15.0 in c:\\users\\cbaut\\anaconda3\\lib\\site-packages (from spotipy) (1.16.0)\n",
      "Requirement already satisfied: urllib3>=1.26.0 in c:\\users\\cbaut\\anaconda3\\lib\\site-packages (from spotipy) (1.26.9)\n",
      "Requirement already satisfied: requests>=2.25.0 in c:\\users\\cbaut\\anaconda3\\lib\\site-packages (from spotipy) (2.27.1)\n",
      "Requirement already satisfied: packaging>=20.4 in c:\\users\\cbaut\\anaconda3\\lib\\site-packages (from redis>=3.5.3->spotipy) (21.3)\n",
      "Requirement already satisfied: async-timeout>=4.0.2 in c:\\users\\cbaut\\anaconda3\\lib\\site-packages (from redis>=3.5.3->spotipy) (4.0.2)\n",
      "Requirement already satisfied: deprecated>=1.2.3 in c:\\users\\cbaut\\anaconda3\\lib\\site-packages (from redis>=3.5.3->spotipy) (1.2.13)\n",
      "Requirement already satisfied: charset-normalizer~=2.0.0 in c:\\users\\cbaut\\anaconda3\\lib\\site-packages (from requests>=2.25.0->spotipy) (2.0.4)\n",
      "Requirement already satisfied: idna<4,>=2.5 in c:\\users\\cbaut\\anaconda3\\lib\\site-packages (from requests>=2.25.0->spotipy) (3.3)\n",
      "Requirement already satisfied: certifi>=2017.4.17 in c:\\users\\cbaut\\anaconda3\\lib\\site-packages (from requests>=2.25.0->spotipy) (2021.10.8)\n",
      "Requirement already satisfied: wrapt<2,>=1.10 in c:\\users\\cbaut\\anaconda3\\lib\\site-packages (from deprecated>=1.2.3->redis>=3.5.3->spotipy) (1.12.1)\n",
      "Requirement already satisfied: pyparsing!=3.0.5,>=2.0.2 in c:\\users\\cbaut\\anaconda3\\lib\\site-packages (from packaging>=20.4->redis>=3.5.3->spotipy) (3.0.4)\n"
     ]
    }
   ],
   "source": [
    "! pip install spotipy"
   ]
  },
  {
   "cell_type": "code",
   "execution_count": 2,
   "metadata": {},
   "outputs": [
    {
     "name": "stdout",
     "output_type": "stream",
     "text": [
      "Requirement already satisfied: streamlit in c:\\users\\cbaut\\anaconda3\\lib\\site-packages (1.17.0)\n",
      "Requirement already satisfied: click>=7.0 in c:\\users\\cbaut\\anaconda3\\lib\\site-packages (from streamlit) (8.0.4)\n",
      "Requirement already satisfied: importlib-metadata>=1.4 in c:\\users\\cbaut\\anaconda3\\lib\\site-packages (from streamlit) (4.11.3)\n",
      "Requirement already satisfied: pyarrow>=4.0 in c:\\users\\cbaut\\anaconda3\\lib\\site-packages (from streamlit) (11.0.0)\n",
      "Requirement already satisfied: pydeck>=0.1.dev5 in c:\\users\\cbaut\\anaconda3\\lib\\site-packages (from streamlit) (0.8.0)\n",
      "Requirement already satisfied: pillow>=6.2.0 in c:\\users\\cbaut\\anaconda3\\lib\\site-packages (from streamlit) (9.0.1)\n",
      "Requirement already satisfied: tornado>=5.0 in c:\\users\\cbaut\\anaconda3\\lib\\site-packages (from streamlit) (6.1)\n",
      "Requirement already satisfied: requests>=2.4 in c:\\users\\cbaut\\anaconda3\\lib\\site-packages (from streamlit) (2.27.1)\n",
      "Requirement already satisfied: numpy in c:\\users\\cbaut\\anaconda3\\lib\\site-packages (from streamlit) (1.21.5)\n",
      "Requirement already satisfied: rich>=10.11.0 in c:\\users\\cbaut\\anaconda3\\lib\\site-packages (from streamlit) (13.3.1)\n",
      "Requirement already satisfied: python-dateutil in c:\\users\\cbaut\\anaconda3\\lib\\site-packages (from streamlit) (2.8.2)\n",
      "Requirement already satisfied: watchdog in c:\\users\\cbaut\\anaconda3\\lib\\site-packages (from streamlit) (2.1.6)\n",
      "Requirement already satisfied: validators>=0.2 in c:\\users\\cbaut\\anaconda3\\lib\\site-packages (from streamlit) (0.20.0)\n",
      "Requirement already satisfied: pandas>=0.21.0 in c:\\users\\cbaut\\anaconda3\\lib\\site-packages (from streamlit) (1.4.2)\n",
      "Requirement already satisfied: pympler>=0.9 in c:\\users\\cbaut\\anaconda3\\lib\\site-packages (from streamlit) (1.0.1)\n",
      "Requirement already satisfied: typing-extensions>=3.10.0.0 in c:\\users\\cbaut\\anaconda3\\lib\\site-packages (from streamlit) (4.1.1)\n",
      "Requirement already satisfied: cachetools>=4.0 in c:\\users\\cbaut\\anaconda3\\lib\\site-packages (from streamlit) (4.2.2)\n",
      "Requirement already satisfied: toml in c:\\users\\cbaut\\anaconda3\\lib\\site-packages (from streamlit) (0.10.2)\n",
      "Requirement already satisfied: blinker>=1.0.0 in c:\\users\\cbaut\\anaconda3\\lib\\site-packages (from streamlit) (1.5)\n",
      "Requirement already satisfied: packaging>=14.1 in c:\\users\\cbaut\\anaconda3\\lib\\site-packages (from streamlit) (21.3)\n",
      "Requirement already satisfied: semver in c:\\users\\cbaut\\anaconda3\\lib\\site-packages (from streamlit) (2.13.0)\n",
      "Requirement already satisfied: tzlocal>=1.1 in c:\\users\\cbaut\\anaconda3\\lib\\site-packages (from streamlit) (4.2)\n",
      "Requirement already satisfied: gitpython!=3.1.19 in c:\\users\\cbaut\\anaconda3\\lib\\site-packages (from streamlit) (3.1.30)\n",
      "Requirement already satisfied: protobuf<4,>=3.12 in c:\\users\\cbaut\\anaconda3\\lib\\site-packages (from streamlit) (3.19.1)\n",
      "Requirement already satisfied: altair>=3.2.0 in c:\\users\\cbaut\\anaconda3\\lib\\site-packages (from streamlit) (4.2.2)\n",
      "Requirement already satisfied: toolz in c:\\users\\cbaut\\anaconda3\\lib\\site-packages (from altair>=3.2.0->streamlit) (0.11.2)\n",
      "Requirement already satisfied: jsonschema>=3.0 in c:\\users\\cbaut\\anaconda3\\lib\\site-packages (from altair>=3.2.0->streamlit) (4.4.0)\n",
      "Requirement already satisfied: entrypoints in c:\\users\\cbaut\\anaconda3\\lib\\site-packages (from altair>=3.2.0->streamlit) (0.4)\n",
      "Requirement already satisfied: jinja2 in c:\\users\\cbaut\\anaconda3\\lib\\site-packages (from altair>=3.2.0->streamlit) (2.11.3)\n",
      "Requirement already satisfied: colorama in c:\\users\\cbaut\\anaconda3\\lib\\site-packages (from click>=7.0->streamlit) (0.4.4)\n",
      "Requirement already satisfied: gitdb<5,>=4.0.1 in c:\\users\\cbaut\\anaconda3\\lib\\site-packages (from gitpython!=3.1.19->streamlit) (4.0.10)\n",
      "Requirement already satisfied: zipp>=0.5 in c:\\users\\cbaut\\anaconda3\\lib\\site-packages (from importlib-metadata>=1.4->streamlit) (3.7.0)\n",
      "Requirement already satisfied: pyparsing!=3.0.5,>=2.0.2 in c:\\users\\cbaut\\anaconda3\\lib\\site-packages (from packaging>=14.1->streamlit) (3.0.4)\n",
      "Requirement already satisfied: pytz>=2020.1 in c:\\users\\cbaut\\anaconda3\\lib\\site-packages (from pandas>=0.21.0->streamlit) (2021.3)\n",
      "Requirement already satisfied: six>=1.5 in c:\\users\\cbaut\\anaconda3\\lib\\site-packages (from python-dateutil->streamlit) (1.16.0)\n",
      "Requirement already satisfied: charset-normalizer~=2.0.0 in c:\\users\\cbaut\\anaconda3\\lib\\site-packages (from requests>=2.4->streamlit) (2.0.4)\n",
      "Requirement already satisfied: urllib3<1.27,>=1.21.1 in c:\\users\\cbaut\\anaconda3\\lib\\site-packages (from requests>=2.4->streamlit) (1.26.9)\n",
      "Requirement already satisfied: idna<4,>=2.5 in c:\\users\\cbaut\\anaconda3\\lib\\site-packages (from requests>=2.4->streamlit) (3.3)\n",
      "Requirement already satisfied: certifi>=2017.4.17 in c:\\users\\cbaut\\anaconda3\\lib\\site-packages (from requests>=2.4->streamlit) (2021.10.8)\n",
      "Requirement already satisfied: pygments<3.0.0,>=2.14.0 in c:\\users\\cbaut\\anaconda3\\lib\\site-packages (from rich>=10.11.0->streamlit) (2.14.0)\n",
      "Requirement already satisfied: markdown-it-py<3.0.0,>=2.1.0 in c:\\users\\cbaut\\anaconda3\\lib\\site-packages (from rich>=10.11.0->streamlit) (2.1.0)\n",
      "Requirement already satisfied: tzdata in c:\\users\\cbaut\\anaconda3\\lib\\site-packages (from tzlocal>=1.1->streamlit) (2022.7)\n",
      "Requirement already satisfied: pytz-deprecation-shim in c:\\users\\cbaut\\anaconda3\\lib\\site-packages (from tzlocal>=1.1->streamlit) (0.1.0.post0)\n",
      "Requirement already satisfied: decorator>=3.4.0 in c:\\users\\cbaut\\anaconda3\\lib\\site-packages (from validators>=0.2->streamlit) (5.1.1)\n",
      "Requirement already satisfied: smmap<6,>=3.0.1 in c:\\users\\cbaut\\anaconda3\\lib\\site-packages (from gitdb<5,>=4.0.1->gitpython!=3.1.19->streamlit) (5.0.0)\n",
      "Requirement already satisfied: MarkupSafe>=0.23 in c:\\users\\cbaut\\anaconda3\\lib\\site-packages (from jinja2->altair>=3.2.0->streamlit) (2.0.1)\n",
      "Requirement already satisfied: attrs>=17.4.0 in c:\\users\\cbaut\\anaconda3\\lib\\site-packages (from jsonschema>=3.0->altair>=3.2.0->streamlit) (21.4.0)\n",
      "Requirement already satisfied: pyrsistent!=0.17.0,!=0.17.1,!=0.17.2,>=0.14.0 in c:\\users\\cbaut\\anaconda3\\lib\\site-packages (from jsonschema>=3.0->altair>=3.2.0->streamlit) (0.18.0)\n",
      "Requirement already satisfied: mdurl~=0.1 in c:\\users\\cbaut\\anaconda3\\lib\\site-packages (from markdown-it-py<3.0.0,>=2.1.0->rich>=10.11.0->streamlit) (0.1.2)\n"
     ]
    }
   ],
   "source": [
    "! pip install streamlit"
   ]
  },
  {
   "cell_type": "code",
   "execution_count": null,
   "metadata": {},
   "outputs": [],
   "source": []
  }
 ],
 "metadata": {
  "kernelspec": {
   "display_name": "base",
   "language": "python",
   "name": "python3"
  },
  "language_info": {
   "codemirror_mode": {
    "name": "ipython",
    "version": 3
   },
   "file_extension": ".py",
   "mimetype": "text/x-python",
   "name": "python",
   "nbconvert_exporter": "python",
   "pygments_lexer": "ipython3",
   "version": "3.9.12"
  },
  "orig_nbformat": 4,
  "vscode": {
   "interpreter": {
    "hash": "040e857c8f7e811255334ba981155795e858537c1e516eab018aced75efa0204"
   }
  }
 },
 "nbformat": 4,
 "nbformat_minor": 2
}
